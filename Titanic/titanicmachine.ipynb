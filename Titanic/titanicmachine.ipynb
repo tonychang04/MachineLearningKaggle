{
 "cells": [
  {
   "cell_type": "code",
   "execution_count": 1,
   "metadata": {
    "_cell_guid": "b1076dfc-b9ad-4769-8c92-a6c4dae69d19",
    "_uuid": "8f2839f25d086af736a60e9eeb907d3b93b6e0e5",
    "execution": {
     "iopub.execute_input": "2020-10-16T13:35:56.800239Z",
     "iopub.status.busy": "2020-10-16T13:35:56.796125Z",
     "iopub.status.idle": "2020-10-16T13:35:59.358978Z",
     "shell.execute_reply": "2020-10-16T13:35:59.357627Z"
    },
    "papermill": {
     "duration": 2.578885,
     "end_time": "2020-10-16T13:35:59.359156",
     "exception": false,
     "start_time": "2020-10-16T13:35:56.780271",
     "status": "completed"
    },
    "tags": []
   },
   "outputs": [
    {
     "name": "stdout",
     "output_type": "stream",
     "text": [
      "/kaggle/input/titanic/train.csv\n",
      "/kaggle/input/titanic/gender_submission.csv\n",
      "/kaggle/input/titanic/test.csv\n",
      "   PassengerId  Survived  Pclass  \\\n",
      "0            1         0       3   \n",
      "1            2         1       1   \n",
      "2            3         1       3   \n",
      "3            4         1       1   \n",
      "4            5         0       3   \n",
      "\n",
      "                                                Name     Sex   Age  SibSp  \\\n",
      "0                            Braund, Mr. Owen Harris    male  22.0      1   \n",
      "1  Cumings, Mrs. John Bradley (Florence Briggs Th...  female  38.0      1   \n",
      "2                             Heikkinen, Miss. Laina  female  26.0      0   \n",
      "3       Futrelle, Mrs. Jacques Heath (Lily May Peel)  female  35.0      1   \n",
      "4                           Allen, Mr. William Henry    male  35.0      0   \n",
      "\n",
      "   Parch            Ticket     Fare Cabin Embarked  \n",
      "0      0         A/5 21171   7.2500   NaN        S  \n",
      "1      0          PC 17599  71.2833   C85        C  \n",
      "2      0  STON/O2. 3101282   7.9250   NaN        S  \n",
      "3      0            113803  53.1000  C123        S  \n",
      "4      0            373450   8.0500   NaN        S  \n"
     ]
    },
    {
     "data": {
      "text/plain": [
       "'\\nlow_cardinality_cols = [cname for cname in X.columns if X[cname].nunique() < 10 and \\n                        X[cname].dtype == \"object\"]\\n\\nnumeric_cols = [cname for cname in X.columns if X[cname].dtype in [\\'int64\\', \\'float64\\']]\\n\\nmy_cols = low_cardinality_cols + numeric_cols\\nX_train = X[my_cols].copy()\\nX_test = X_test_full[my_cols].copy()\\nX_train = pd.get_dummies(X_train)\\nX_test = pd.get_dummies(X_test)\\n\\nX_train, X_test = X_train.align(X_test, join=\\'left\\', axis=1)\\nmy_model = XGBRegressor(n_estimators=1000, learning_rate=0.05)\\nmy_model.fit(X, y, \\n             early_stopping_rounds=5, \\n             eval_set=[(X_valid, y_valid)], \\n             verbose=False)\\n'"
      ]
     },
     "execution_count": 1,
     "metadata": {},
     "output_type": "execute_result"
    }
   ],
   "source": [
    "# This Python 3 environment comes with many helpful analytics libraries installed\n",
    "# It is defined by the kaggle/python Docker image: https://github.com/kaggle/docker-python\n",
    "# For example, here's several helpful packages to load\n",
    "from xgboost import XGBRegressor\n",
    "import numpy as np # linear algebra\n",
    "import pandas as pd # data processing, CSV file I/O (e.g. pd.read_csv)\n",
    "from sklearn.model_selection import train_test_split\n",
    "from sklearn.metrics import accuracy_score\n",
    "\n",
    "# Input data files are available in the read-only \"../input/\" directory\n",
    "# For example, running this (by clicking run or pressing Shift+Enter) will list all files under the input directory\n",
    "\n",
    "import os\n",
    "for dirname, _, filenames in os.walk('/kaggle/input'):\n",
    "    for filename in filenames:\n",
    "        print(os.path.join(dirname, filename))\n",
    "X = pd.read_csv('/kaggle/input/titanic/train.csv')\n",
    "X_test_full = pd.read_csv('/kaggle/input/titanic/test.csv')\n",
    "print(X.head())\n",
    "\n",
    "\n",
    "#start to use test case\n",
    "\n",
    "X.dropna(axis=0, subset=['Survived'], inplace=True)\n",
    "y = X.Survived            \n",
    "X.drop(['Survived'], axis=1, inplace=True)\n",
    "\n",
    "\n",
    "\"\"\"\n",
    "low_cardinality_cols = [cname for cname in X.columns if X[cname].nunique() < 10 and \n",
    "                        X[cname].dtype == \"object\"]\n",
    "\n",
    "numeric_cols = [cname for cname in X.columns if X[cname].dtype in ['int64', 'float64']]\n",
    "\n",
    "my_cols = low_cardinality_cols + numeric_cols\n",
    "X_train = X[my_cols].copy()\n",
    "X_test = X_test_full[my_cols].copy()\n",
    "X_train = pd.get_dummies(X_train)\n",
    "X_test = pd.get_dummies(X_test)\n",
    "\n",
    "X_train, X_test = X_train.align(X_test, join='left', axis=1)\n",
    "my_model = XGBRegressor(n_estimators=1000, learning_rate=0.05)\n",
    "my_model.fit(X, y, \n",
    "             early_stopping_rounds=5, \n",
    "             eval_set=[(X_valid, y_valid)], \n",
    "             verbose=False)\n",
    "\"\"\""
   ]
  },
  {
   "cell_type": "code",
   "execution_count": 2,
   "metadata": {
    "_cell_guid": "79c7e3d0-c299-4dcb-8224-4455121ee9b0",
    "_uuid": "d629ff2d2480ee46fbb7e2d37f6b5fab8052498a",
    "execution": {
     "iopub.execute_input": "2020-10-16T13:35:59.393188Z",
     "iopub.status.busy": "2020-10-16T13:35:59.390173Z",
     "iopub.status.idle": "2020-10-16T13:35:59.432074Z",
     "shell.execute_reply": "2020-10-16T13:35:59.431230Z"
    },
    "papermill": {
     "duration": 0.066973,
     "end_time": "2020-10-16T13:35:59.432219",
     "exception": false,
     "start_time": "2020-10-16T13:35:59.365246",
     "status": "completed"
    },
    "tags": []
   },
   "outputs": [],
   "source": [
    "\n",
    "\n",
    "X_train_full, X_valid_full, y_train, y_valid = train_test_split(X, y, train_size=0.8, test_size=0.2,\n",
    "                                                                random_state=0)\n",
    "\n",
    "low_cardinality_cols = [cname for cname in X_train_full.columns if X_train_full[cname].nunique() < 10 and \n",
    "                        X_train_full[cname].dtype == \"object\"]\n",
    "\n",
    "numeric_cols = [cname for cname in X_train_full.columns if X_train_full[cname].dtype in ['int64', 'float64']]\n",
    "\n",
    "my_cols = low_cardinality_cols + numeric_cols\n",
    "X_train = X_train_full[my_cols].copy()\n",
    "X_valid = X_valid_full[my_cols].copy()\n",
    "X_test = X_test_full[my_cols].copy()\n",
    "X_train = pd.get_dummies(X_train)\n",
    "X_valid = pd.get_dummies(X_valid)\n",
    "X_test = pd.get_dummies(X_test)\n",
    "X_train, X_valid = X_train.align(X_valid, join='left', axis=1)\n",
    "X_train, X_test = X_train.align(X_test, join='left', axis=1)\n"
   ]
  },
  {
   "cell_type": "code",
   "execution_count": 3,
   "metadata": {
    "execution": {
     "iopub.execute_input": "2020-10-16T13:35:59.461677Z",
     "iopub.status.busy": "2020-10-16T13:35:59.460354Z",
     "iopub.status.idle": "2020-10-16T13:35:59.953093Z",
     "shell.execute_reply": "2020-10-16T13:35:59.951979Z"
    },
    "papermill": {
     "duration": 0.513986,
     "end_time": "2020-10-16T13:35:59.953271",
     "exception": false,
     "start_time": "2020-10-16T13:35:59.439285",
     "status": "completed"
    },
    "tags": []
   },
   "outputs": [
    {
     "data": {
      "text/plain": [
       "'\\nprint(prediction)\\nprint(y_valid)\\nprint(accuracy_score(y_valid, prediction))\\n'"
      ]
     },
     "execution_count": 3,
     "metadata": {},
     "output_type": "execute_result"
    }
   ],
   "source": [
    "\n",
    "my_model = XGBRegressor(n_estimators=1000, learning_rate=0.05)\n",
    "my_model.fit(X_train, y_train, \n",
    "             early_stopping_rounds=5, \n",
    "             eval_set=[(X_valid, y_valid)], \n",
    "             verbose=False)\n",
    "prediction = my_model.predict(X_test)\n",
    "#print(prediction)\n",
    "prediction = (prediction > 0.5).astype(np.int)\n",
    "\n",
    "output = pd.DataFrame({'PassengerId': X_test.PassengerId,\n",
    "                       'Survived': prediction})\n",
    "output.to_csv('submission.csv', index=False)\n",
    "\"\"\"\n",
    "print(prediction)\n",
    "print(y_valid)\n",
    "print(accuracy_score(y_valid, prediction))\n",
    "\"\"\"\n",
    "\n",
    "#print(score(prediction, y_valid))"
   ]
  }
 ],
 "metadata": {
  "kernelspec": {
   "display_name": "Python 3",
   "language": "python",
   "name": "python3"
  },
  "language_info": {
   "codemirror_mode": {
    "name": "ipython",
    "version": 3
   },
   "file_extension": ".py",
   "mimetype": "text/x-python",
   "name": "python",
   "nbconvert_exporter": "python",
   "pygments_lexer": "ipython3",
   "version": "3.7.6"
  },
  "papermill": {
   "duration": 8.905671,
   "end_time": "2020-10-16T13:36:00.074444",
   "environment_variables": {},
   "exception": null,
   "input_path": "__notebook__.ipynb",
   "output_path": "__notebook__.ipynb",
   "parameters": {},
   "start_time": "2020-10-16T13:35:51.168773",
   "version": "2.1.0"
  }
 },
 "nbformat": 4,
 "nbformat_minor": 4
}
