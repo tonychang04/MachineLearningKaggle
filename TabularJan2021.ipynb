{
 "cells": [
  {
   "cell_type": "code",
   "execution_count": 147,
   "metadata": {},
   "outputs": [],
   "source": [
    "import numpy as np\n",
    "import pandas as pd"
   ]
  },
  {
   "cell_type": "code",
   "execution_count": 148,
   "metadata": {},
   "outputs": [],
   "source": [
    "df = pd.read_csv('/Users/gary/Desktop/machineLearning/TabularJan/train.csv')\n",
    "df2 = pd.read_csv('/Users/gary/Desktop/machineLearning/TabularJan/test.csv')\n",
    "df3 = pd.read_csv('/Users/gary/Desktop/machineLearning/TabularJan/sample_submission.csv')"
   ]
  },
  {
   "cell_type": "code",
   "execution_count": 164,
   "metadata": {},
   "outputs": [
    {
     "data": {
      "text/html": [
       "<div>\n",
       "<style scoped>\n",
       "    .dataframe tbody tr th:only-of-type {\n",
       "        vertical-align: middle;\n",
       "    }\n",
       "\n",
       "    .dataframe tbody tr th {\n",
       "        vertical-align: top;\n",
       "    }\n",
       "\n",
       "    .dataframe thead th {\n",
       "        text-align: right;\n",
       "    }\n",
       "</style>\n",
       "<table border=\"1\" class=\"dataframe\">\n",
       "  <thead>\n",
       "    <tr style=\"text-align: right;\">\n",
       "      <th></th>\n",
       "      <th>id</th>\n",
       "      <th>cont1</th>\n",
       "      <th>cont2</th>\n",
       "      <th>cont3</th>\n",
       "      <th>cont4</th>\n",
       "      <th>cont5</th>\n",
       "      <th>cont6</th>\n",
       "      <th>cont7</th>\n",
       "      <th>cont8</th>\n",
       "      <th>cont9</th>\n",
       "      <th>cont10</th>\n",
       "      <th>cont11</th>\n",
       "      <th>cont12</th>\n",
       "      <th>cont13</th>\n",
       "      <th>cont14</th>\n",
       "      <th>target</th>\n",
       "    </tr>\n",
       "  </thead>\n",
       "  <tbody>\n",
       "    <tr>\n",
       "      <th>count</th>\n",
       "      <td>300000.000000</td>\n",
       "      <td>300000.000000</td>\n",
       "      <td>300000.000000</td>\n",
       "      <td>300000.000000</td>\n",
       "      <td>300000.000000</td>\n",
       "      <td>300000.000000</td>\n",
       "      <td>300000.000000</td>\n",
       "      <td>300000.000000</td>\n",
       "      <td>300000.000000</td>\n",
       "      <td>300000.000000</td>\n",
       "      <td>300000.000000</td>\n",
       "      <td>300000.000000</td>\n",
       "      <td>300000.000000</td>\n",
       "      <td>300000.000000</td>\n",
       "      <td>300000.000000</td>\n",
       "      <td>300000.000000</td>\n",
       "    </tr>\n",
       "    <tr>\n",
       "      <th>mean</th>\n",
       "      <td>249825.145857</td>\n",
       "      <td>0.506873</td>\n",
       "      <td>0.497898</td>\n",
       "      <td>0.521557</td>\n",
       "      <td>0.515683</td>\n",
       "      <td>0.502022</td>\n",
       "      <td>0.526515</td>\n",
       "      <td>0.487890</td>\n",
       "      <td>0.525163</td>\n",
       "      <td>0.459857</td>\n",
       "      <td>0.520532</td>\n",
       "      <td>0.483926</td>\n",
       "      <td>0.506877</td>\n",
       "      <td>0.553442</td>\n",
       "      <td>0.503713</td>\n",
       "      <td>7.905661</td>\n",
       "    </tr>\n",
       "    <tr>\n",
       "      <th>std</th>\n",
       "      <td>144476.732562</td>\n",
       "      <td>0.203976</td>\n",
       "      <td>0.228159</td>\n",
       "      <td>0.200770</td>\n",
       "      <td>0.233035</td>\n",
       "      <td>0.220701</td>\n",
       "      <td>0.217909</td>\n",
       "      <td>0.181096</td>\n",
       "      <td>0.216221</td>\n",
       "      <td>0.196685</td>\n",
       "      <td>0.201854</td>\n",
       "      <td>0.220082</td>\n",
       "      <td>0.218947</td>\n",
       "      <td>0.229730</td>\n",
       "      <td>0.208238</td>\n",
       "      <td>0.733071</td>\n",
       "    </tr>\n",
       "    <tr>\n",
       "      <th>min</th>\n",
       "      <td>1.000000</td>\n",
       "      <td>-0.082263</td>\n",
       "      <td>-0.031397</td>\n",
       "      <td>0.020967</td>\n",
       "      <td>0.152761</td>\n",
       "      <td>0.276377</td>\n",
       "      <td>0.066166</td>\n",
       "      <td>-0.097666</td>\n",
       "      <td>0.217260</td>\n",
       "      <td>-0.240604</td>\n",
       "      <td>-0.085046</td>\n",
       "      <td>0.083277</td>\n",
       "      <td>0.088635</td>\n",
       "      <td>0.029950</td>\n",
       "      <td>0.166367</td>\n",
       "      <td>0.000000</td>\n",
       "    </tr>\n",
       "    <tr>\n",
       "      <th>25%</th>\n",
       "      <td>124656.500000</td>\n",
       "      <td>0.343078</td>\n",
       "      <td>0.319170</td>\n",
       "      <td>0.344096</td>\n",
       "      <td>0.294935</td>\n",
       "      <td>0.284108</td>\n",
       "      <td>0.356163</td>\n",
       "      <td>0.346600</td>\n",
       "      <td>0.341486</td>\n",
       "      <td>0.330832</td>\n",
       "      <td>0.375465</td>\n",
       "      <td>0.300474</td>\n",
       "      <td>0.310166</td>\n",
       "      <td>0.350472</td>\n",
       "      <td>0.308673</td>\n",
       "      <td>7.329367</td>\n",
       "    </tr>\n",
       "    <tr>\n",
       "      <th>50%</th>\n",
       "      <td>249738.500000</td>\n",
       "      <td>0.484005</td>\n",
       "      <td>0.553209</td>\n",
       "      <td>0.551471</td>\n",
       "      <td>0.482880</td>\n",
       "      <td>0.451733</td>\n",
       "      <td>0.470988</td>\n",
       "      <td>0.466825</td>\n",
       "      <td>0.483460</td>\n",
       "      <td>0.416843</td>\n",
       "      <td>0.458877</td>\n",
       "      <td>0.441916</td>\n",
       "      <td>0.486599</td>\n",
       "      <td>0.487707</td>\n",
       "      <td>0.431845</td>\n",
       "      <td>7.940571</td>\n",
       "    </tr>\n",
       "    <tr>\n",
       "      <th>75%</th>\n",
       "      <td>374836.250000</td>\n",
       "      <td>0.643789</td>\n",
       "      <td>0.731263</td>\n",
       "      <td>0.648315</td>\n",
       "      <td>0.748705</td>\n",
       "      <td>0.670660</td>\n",
       "      <td>0.694043</td>\n",
       "      <td>0.581292</td>\n",
       "      <td>0.685250</td>\n",
       "      <td>0.575041</td>\n",
       "      <td>0.700292</td>\n",
       "      <td>0.679128</td>\n",
       "      <td>0.694453</td>\n",
       "      <td>0.768479</td>\n",
       "      <td>0.712653</td>\n",
       "      <td>8.470084</td>\n",
       "    </tr>\n",
       "    <tr>\n",
       "      <th>max</th>\n",
       "      <td>499999.000000</td>\n",
       "      <td>1.016227</td>\n",
       "      <td>0.859697</td>\n",
       "      <td>1.006955</td>\n",
       "      <td>1.010402</td>\n",
       "      <td>1.034261</td>\n",
       "      <td>1.043858</td>\n",
       "      <td>1.066167</td>\n",
       "      <td>1.024427</td>\n",
       "      <td>1.004114</td>\n",
       "      <td>1.199951</td>\n",
       "      <td>1.022620</td>\n",
       "      <td>1.049025</td>\n",
       "      <td>0.977845</td>\n",
       "      <td>0.868506</td>\n",
       "      <td>10.267569</td>\n",
       "    </tr>\n",
       "  </tbody>\n",
       "</table>\n",
       "</div>"
      ],
      "text/plain": [
       "                  id          cont1          cont2          cont3  \\\n",
       "count  300000.000000  300000.000000  300000.000000  300000.000000   \n",
       "mean   249825.145857       0.506873       0.497898       0.521557   \n",
       "std    144476.732562       0.203976       0.228159       0.200770   \n",
       "min         1.000000      -0.082263      -0.031397       0.020967   \n",
       "25%    124656.500000       0.343078       0.319170       0.344096   \n",
       "50%    249738.500000       0.484005       0.553209       0.551471   \n",
       "75%    374836.250000       0.643789       0.731263       0.648315   \n",
       "max    499999.000000       1.016227       0.859697       1.006955   \n",
       "\n",
       "               cont4          cont5          cont6          cont7  \\\n",
       "count  300000.000000  300000.000000  300000.000000  300000.000000   \n",
       "mean        0.515683       0.502022       0.526515       0.487890   \n",
       "std         0.233035       0.220701       0.217909       0.181096   \n",
       "min         0.152761       0.276377       0.066166      -0.097666   \n",
       "25%         0.294935       0.284108       0.356163       0.346600   \n",
       "50%         0.482880       0.451733       0.470988       0.466825   \n",
       "75%         0.748705       0.670660       0.694043       0.581292   \n",
       "max         1.010402       1.034261       1.043858       1.066167   \n",
       "\n",
       "               cont8          cont9         cont10         cont11  \\\n",
       "count  300000.000000  300000.000000  300000.000000  300000.000000   \n",
       "mean        0.525163       0.459857       0.520532       0.483926   \n",
       "std         0.216221       0.196685       0.201854       0.220082   \n",
       "min         0.217260      -0.240604      -0.085046       0.083277   \n",
       "25%         0.341486       0.330832       0.375465       0.300474   \n",
       "50%         0.483460       0.416843       0.458877       0.441916   \n",
       "75%         0.685250       0.575041       0.700292       0.679128   \n",
       "max         1.024427       1.004114       1.199951       1.022620   \n",
       "\n",
       "              cont12         cont13         cont14         target  \n",
       "count  300000.000000  300000.000000  300000.000000  300000.000000  \n",
       "mean        0.506877       0.553442       0.503713       7.905661  \n",
       "std         0.218947       0.229730       0.208238       0.733071  \n",
       "min         0.088635       0.029950       0.166367       0.000000  \n",
       "25%         0.310166       0.350472       0.308673       7.329367  \n",
       "50%         0.486599       0.487707       0.431845       7.940571  \n",
       "75%         0.694453       0.768479       0.712653       8.470084  \n",
       "max         1.049025       0.977845       0.868506      10.267569  "
      ]
     },
     "execution_count": 164,
     "metadata": {},
     "output_type": "execute_result"
    }
   ],
   "source": [
    "df.head()\n",
    "df.describe()"
   ]
  },
  {
   "cell_type": "code",
   "execution_count": 150,
   "metadata": {},
   "outputs": [
    {
     "data": {
      "text/html": [
       "<div>\n",
       "<style scoped>\n",
       "    .dataframe tbody tr th:only-of-type {\n",
       "        vertical-align: middle;\n",
       "    }\n",
       "\n",
       "    .dataframe tbody tr th {\n",
       "        vertical-align: top;\n",
       "    }\n",
       "\n",
       "    .dataframe thead th {\n",
       "        text-align: right;\n",
       "    }\n",
       "</style>\n",
       "<table border=\"1\" class=\"dataframe\">\n",
       "  <thead>\n",
       "    <tr style=\"text-align: right;\">\n",
       "      <th></th>\n",
       "      <th>id</th>\n",
       "      <th>cont1</th>\n",
       "      <th>cont2</th>\n",
       "      <th>cont3</th>\n",
       "      <th>cont4</th>\n",
       "      <th>cont5</th>\n",
       "      <th>cont6</th>\n",
       "      <th>cont7</th>\n",
       "      <th>cont8</th>\n",
       "      <th>cont9</th>\n",
       "      <th>cont10</th>\n",
       "      <th>cont11</th>\n",
       "      <th>cont12</th>\n",
       "      <th>cont13</th>\n",
       "      <th>cont14</th>\n",
       "    </tr>\n",
       "  </thead>\n",
       "  <tbody>\n",
       "    <tr>\n",
       "      <th>0</th>\n",
       "      <td>0</td>\n",
       "      <td>0.353600</td>\n",
       "      <td>0.738780</td>\n",
       "      <td>0.600939</td>\n",
       "      <td>0.293377</td>\n",
       "      <td>0.285691</td>\n",
       "      <td>0.458006</td>\n",
       "      <td>0.620704</td>\n",
       "      <td>0.422249</td>\n",
       "      <td>0.369203</td>\n",
       "      <td>0.435727</td>\n",
       "      <td>0.550540</td>\n",
       "      <td>0.699134</td>\n",
       "      <td>0.286864</td>\n",
       "      <td>0.364515</td>\n",
       "    </tr>\n",
       "    <tr>\n",
       "      <th>1</th>\n",
       "      <td>2</td>\n",
       "      <td>0.907222</td>\n",
       "      <td>0.189756</td>\n",
       "      <td>0.215531</td>\n",
       "      <td>0.869915</td>\n",
       "      <td>0.301333</td>\n",
       "      <td>0.528958</td>\n",
       "      <td>0.390351</td>\n",
       "      <td>0.521112</td>\n",
       "      <td>0.794779</td>\n",
       "      <td>0.798580</td>\n",
       "      <td>0.446475</td>\n",
       "      <td>0.449037</td>\n",
       "      <td>0.916964</td>\n",
       "      <td>0.513002</td>\n",
       "    </tr>\n",
       "    <tr>\n",
       "      <th>2</th>\n",
       "      <td>6</td>\n",
       "      <td>0.179287</td>\n",
       "      <td>0.355353</td>\n",
       "      <td>0.623972</td>\n",
       "      <td>0.437812</td>\n",
       "      <td>0.282476</td>\n",
       "      <td>0.320826</td>\n",
       "      <td>0.386789</td>\n",
       "      <td>0.776422</td>\n",
       "      <td>0.222268</td>\n",
       "      <td>0.229102</td>\n",
       "      <td>0.211913</td>\n",
       "      <td>0.222651</td>\n",
       "      <td>0.327164</td>\n",
       "      <td>0.827941</td>\n",
       "    </tr>\n",
       "    <tr>\n",
       "      <th>3</th>\n",
       "      <td>7</td>\n",
       "      <td>0.359385</td>\n",
       "      <td>0.181049</td>\n",
       "      <td>0.551368</td>\n",
       "      <td>0.206386</td>\n",
       "      <td>0.280763</td>\n",
       "      <td>0.482076</td>\n",
       "      <td>0.506677</td>\n",
       "      <td>0.362793</td>\n",
       "      <td>0.379737</td>\n",
       "      <td>0.345686</td>\n",
       "      <td>0.445276</td>\n",
       "      <td>0.518485</td>\n",
       "      <td>0.299028</td>\n",
       "      <td>0.598166</td>\n",
       "    </tr>\n",
       "    <tr>\n",
       "      <th>4</th>\n",
       "      <td>10</td>\n",
       "      <td>0.335791</td>\n",
       "      <td>0.682607</td>\n",
       "      <td>0.676481</td>\n",
       "      <td>0.219465</td>\n",
       "      <td>0.282861</td>\n",
       "      <td>0.581721</td>\n",
       "      <td>0.748639</td>\n",
       "      <td>0.350158</td>\n",
       "      <td>0.448915</td>\n",
       "      <td>0.506878</td>\n",
       "      <td>0.817721</td>\n",
       "      <td>0.805895</td>\n",
       "      <td>0.790591</td>\n",
       "      <td>0.249275</td>\n",
       "    </tr>\n",
       "  </tbody>\n",
       "</table>\n",
       "</div>"
      ],
      "text/plain": [
       "   id     cont1     cont2     cont3     cont4     cont5     cont6     cont7  \\\n",
       "0   0  0.353600  0.738780  0.600939  0.293377  0.285691  0.458006  0.620704   \n",
       "1   2  0.907222  0.189756  0.215531  0.869915  0.301333  0.528958  0.390351   \n",
       "2   6  0.179287  0.355353  0.623972  0.437812  0.282476  0.320826  0.386789   \n",
       "3   7  0.359385  0.181049  0.551368  0.206386  0.280763  0.482076  0.506677   \n",
       "4  10  0.335791  0.682607  0.676481  0.219465  0.282861  0.581721  0.748639   \n",
       "\n",
       "      cont8     cont9    cont10    cont11    cont12    cont13    cont14  \n",
       "0  0.422249  0.369203  0.435727  0.550540  0.699134  0.286864  0.364515  \n",
       "1  0.521112  0.794779  0.798580  0.446475  0.449037  0.916964  0.513002  \n",
       "2  0.776422  0.222268  0.229102  0.211913  0.222651  0.327164  0.827941  \n",
       "3  0.362793  0.379737  0.345686  0.445276  0.518485  0.299028  0.598166  \n",
       "4  0.350158  0.448915  0.506878  0.817721  0.805895  0.790591  0.249275  "
      ]
     },
     "execution_count": 150,
     "metadata": {},
     "output_type": "execute_result"
    }
   ],
   "source": [
    "df2.head()"
   ]
  },
  {
   "cell_type": "code",
   "execution_count": 151,
   "metadata": {},
   "outputs": [],
   "source": [
    "from sklearn.model_selection import train_test_split\n",
    "columns = ['cont1', 'cont2', 'cont3', 'cont4', 'cont5', 'cont6', 'cont7',\n",
    "       'cont8', 'cont9', 'cont10', 'cont11', 'cont12', 'cont13', 'cont14']\n",
    "X = df[columns]\n",
    "y = df['target']"
   ]
  },
  {
   "cell_type": "code",
   "execution_count": 152,
   "metadata": {},
   "outputs": [],
   "source": [
    "X_train, X_test, y_train, y_test = train_test_split(X, y, test_size=0.33, random_state=42)"
   ]
  },
  {
   "cell_type": "code",
   "execution_count": 153,
   "metadata": {},
   "outputs": [],
   "source": [
    "from sklearn.linear_model import Ridge"
   ]
  },
  {
   "cell_type": "code",
   "execution_count": 154,
   "metadata": {},
   "outputs": [],
   "source": [
    "ridge = Ridge(alpha = 0.01)"
   ]
  },
  {
   "cell_type": "code",
   "execution_count": 155,
   "metadata": {},
   "outputs": [
    {
     "data": {
      "text/plain": [
       "Ridge(alpha=0.01, copy_X=True, fit_intercept=True, max_iter=None,\n",
       "   normalize=False, random_state=None, solver='auto', tol=0.001)"
      ]
     },
     "execution_count": 155,
     "metadata": {},
     "output_type": "execute_result"
    }
   ],
   "source": [
    "ridge.fit(X_train, y_train)"
   ]
  },
  {
   "cell_type": "code",
   "execution_count": 156,
   "metadata": {},
   "outputs": [],
   "source": [
    "prediction = ridge.predict(X_test)"
   ]
  },
  {
   "cell_type": "code",
   "execution_count": 157,
   "metadata": {},
   "outputs": [],
   "source": [
    "from sklearn.metrics import mean_squared_error"
   ]
  },
  {
   "cell_type": "code",
   "execution_count": 158,
   "metadata": {},
   "outputs": [
    {
     "name": "stdout",
     "output_type": "stream",
     "text": [
      "0.5249889971930003\n"
     ]
    }
   ],
   "source": [
    "print(mean_squared_error(y_test, prediction))"
   ]
  },
  {
   "cell_type": "code",
   "execution_count": 159,
   "metadata": {},
   "outputs": [],
   "source": [
    "error_rate = []\n",
    "testing = [0.01, 0.1,1,10,100]\n",
    "for i in testing:\n",
    "    ridge = Ridge(alpha = i)\n",
    "    ridge.fit(X_train, y_train)\n",
    "    prediction = ridge.predict(X_test)\n",
    "    error_rate.append(mean_squared_error(y_test, prediction))"
   ]
  },
  {
   "cell_type": "code",
   "execution_count": 160,
   "metadata": {},
   "outputs": [
    {
     "data": {
      "text/plain": [
       "[0.5249889971930003,\n",
       " 0.5249890055324231,\n",
       " 0.5249890897435021,\n",
       " 0.5249900125613263,\n",
       " 0.5250064208805383]"
      ]
     },
     "execution_count": 160,
     "metadata": {},
     "output_type": "execute_result"
    }
   ],
   "source": [
    "error_rate"
   ]
  },
  {
   "cell_type": "code",
   "execution_count": 161,
   "metadata": {},
   "outputs": [
    {
     "data": {
      "text/plain": [
       "Ridge(alpha=0.01, copy_X=True, fit_intercept=True, max_iter=None,\n",
       "   normalize=False, random_state=None, solver='auto', tol=0.001)"
      ]
     },
     "execution_count": 161,
     "metadata": {},
     "output_type": "execute_result"
    }
   ],
   "source": [
    "ridge = Ridge(alpha = 0.01)\n",
    "ridge.fit(X, y)"
   ]
  },
  {
   "cell_type": "code",
   "execution_count": 162,
   "metadata": {},
   "outputs": [],
   "source": [
    "predictions = ridge.predict(df2[columns])"
   ]
  },
  {
   "cell_type": "code",
   "execution_count": 163,
   "metadata": {},
   "outputs": [],
   "source": [
    "df3['target'] = predictions"
   ]
  },
  {
   "cell_type": "code",
   "execution_count": null,
   "metadata": {},
   "outputs": [],
   "source": []
  },
  {
   "cell_type": "code",
   "execution_count": null,
   "metadata": {},
   "outputs": [],
   "source": []
  }
 ],
 "metadata": {
  "kernelspec": {
   "display_name": "Python 3",
   "language": "python",
   "name": "python3"
  },
  "language_info": {
   "codemirror_mode": {
    "name": "ipython",
    "version": 3
   },
   "file_extension": ".py",
   "mimetype": "text/x-python",
   "name": "python",
   "nbconvert_exporter": "python",
   "pygments_lexer": "ipython3",
   "version": "3.7.3"
  }
 },
 "nbformat": 4,
 "nbformat_minor": 2
}
